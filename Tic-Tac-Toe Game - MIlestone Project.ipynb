{
 "cells": [
  {
   "cell_type": "code",
   "execution_count": 1,
   "metadata": {},
   "outputs": [],
   "source": [
    "from IPython.display import clear_output\n",
    "import random\n",
    "\n",
    "test_board = [' ']*10\n"
   ]
  },
  {
   "cell_type": "code",
   "execution_count": 2,
   "metadata": {},
   "outputs": [],
   "source": [
    "def display_board(board):    \n",
    "    #clear_output()\n",
    "    print(board[1],'|',board[2],'|',board[3])\n",
    "    print(10*'-')\n",
    "    print(board[4],'|',board[5],'|',board[6])\n",
    "    print(10*'-')\n",
    "    print(board[7],'|',board[8],'|',board[9])"
   ]
  },
  {
   "cell_type": "code",
   "execution_count": 3,
   "metadata": {},
   "outputs": [],
   "source": [
    "def player_input():\n",
    "    marker = ''\n",
    "    correct = False\n",
    "    \n",
    "    while not correct:\n",
    "        marker = input('Player1: Choose between X and O: ')\n",
    "        correct = marker.upper() == 'X' \\\n",
    "               or marker.upper() == 'O'\n",
    "    \n",
    "    player1 = marker.upper()\n",
    "    if player1.upper() == 'X':\n",
    "        player2 = 'O'\n",
    "    else:\n",
    "        player2 = 'X' \n",
    "    \n",
    "    global player1_marker, player2_marker\n",
    "    player1_marker, player2_marker = player1, player2\n",
    "        \n",
    "    return (player1, player2)\n"
   ]
  },
  {
   "cell_type": "code",
   "execution_count": 4,
   "metadata": {},
   "outputs": [],
   "source": [
    "def place_marker(board, marker, position):\n",
    "    board[position] = marker\n",
    "    return board[position]\n",
    "    "
   ]
  },
  {
   "cell_type": "code",
   "execution_count": null,
   "metadata": {},
   "outputs": [],
   "source": [
    "def win_check(board, mark):\n",
    "    \n",
    "    return ((board[7] == mark and board[8] == mark and board[9] == mark) or # across the top\n",
    "    (board[4] == mark and board[5] == mark and board[6] == mark) or # across the middle\n",
    "    (board[1] == mark and board[2] == mark and board[3] == mark) or # across the bottom\n",
    "    (board[7] == mark and board[4] == mark and board[1] == mark) or # down the middle\n",
    "    (board[8] == mark and board[5] == mark and board[2] == mark) or # down the middle\n",
    "    (board[9] == mark and board[6] == mark and board[3] == mark) or # down the right side\n",
    "    (board[7] == mark and board[5] == mark and board[3] == mark) or # diagonal\n",
    "    (board[9] == mark and board[5] == mark and board[1] == mark)) # diagonal"
   ]
  },
  {
   "cell_type": "code",
   "execution_count": null,
   "metadata": {},
   "outputs": [],
   "source": [
    "\n",
    "def choose_first():\n",
    "    first = random.randint(1,2)\n",
    "    return first  == 1\n",
    "    "
   ]
  },
  {
   "cell_type": "code",
   "execution_count": null,
   "metadata": {},
   "outputs": [],
   "source": [
    "def space_check(board, position):\n",
    "    return board[position] == ' '"
   ]
  },
  {
   "cell_type": "code",
   "execution_count": null,
   "metadata": {},
   "outputs": [],
   "source": [
    "def full_board_check(board):\n",
    "    \n",
    "    for i in range(1,10):\n",
    "        if space_check(board,i):\n",
    "            return False\n",
    "    \n",
    "    return True \n",
    "    \n",
    "    "
   ]
  },
  {
   "cell_type": "code",
   "execution_count": null,
   "metadata": {},
   "outputs": [],
   "source": [
    "def player_choice(board):\n",
    "    choice = 0\n",
    "    acceptable = [str(i) for i in range(1,10)]\n",
    "    \n",
    "    while choice == 0: \n",
    "        choice = input('Select a position from 1 to 9:  ')\n",
    "        if choice in acceptable:\n",
    "            choice = int(choice)\n",
    "            if space_check(test_board,choice):\n",
    "                return choice\n",
    "            else: \n",
    "                \n",
    "                clear_output()\n",
    "                display_board(test_board)\n",
    "                print('Position has already been marked')\n",
    "                choice = 0\n",
    "                continue\n",
    "            \n",
    "        else:\n",
    "            \n",
    "            clear_output()\n",
    "            display_board(test_board)\n",
    "            print('not valid..')\n",
    "            choice = 0\n",
    "            continue\n",
    "            \n",
    "       "
   ]
  },
  {
   "cell_type": "code",
   "execution_count": null,
   "metadata": {},
   "outputs": [],
   "source": [
    "def replay():\n",
    "    answer = ''\n",
    "    while answer != 'yes' and answer != 'no':\n",
    "        answer = input('want to play again??? [yes/no]').lower()\n",
    "    return answer == 'yes'    \n"
   ]
  },
  {
   "cell_type": "code",
   "execution_count": null,
   "metadata": {},
   "outputs": [
    {
     "name": "stdout",
     "output_type": "stream",
     "text": [
      "O | X | O\n",
      "----------\n",
      "X | O | X\n",
      "----------\n",
      "X | O | O\n",
      "first player wins!!!\n"
     ]
    }
   ],
   "source": [
    "print('Welcome to Tic Tac Toe!\\n')\n",
    "while True: \n",
    "    print('')\n",
    "    test_board = [' ']*10 \n",
    "    display_board(test_board)\n",
    "\n",
    "    player_input()\n",
    "    print('')\n",
    "    print(f'Player1 holds \"{player1_marker}\" and Player2 holds \"{player2_marker}\"!!!',end = 2*'\\n')\n",
    "    print('')\n",
    "    print('Flipping the coin...', end = 2*'\\n')\n",
    "\n",
    "    if choose_first():\n",
    "        first = player1_marker\n",
    "        second = player2_marker\n",
    "        print('Player1 plays first!!!')\n",
    "    else:\n",
    "        first = player2_marker\n",
    "        second = player1_marker\n",
    "        print ('Player2 plays first!!!') \n",
    "\n",
    "    game_on = True\n",
    "\n",
    "    while game_on:\n",
    "\n",
    "        place_marker(test_board,first,player_choice(test_board))\n",
    "        clear_output()\n",
    "        display_board(test_board)\n",
    "        if win_check(test_board,first):\n",
    "            clear_output()\n",
    "            display_board(test_board)\n",
    "            print('first player wins!!!')\n",
    "            break\n",
    "        if full_board_check(test_board):\n",
    "            clear_output()\n",
    "            display_board(test_board)\n",
    "            print('nobody won!!!')\n",
    "            break\n",
    "\n",
    "        place_marker(test_board,second,player_choice(test_board))\n",
    "        display_board(test_board)\n",
    "        if win_check(test_board,second):\n",
    "            clear_output()\n",
    "            display_board(test_board)\n",
    "            print('second player wins!!!')\n",
    "            break\n",
    "        if full_board_check(test_board):\n",
    "            clear_output()\n",
    "            display_board(test_board)\n",
    "            print('nobody won!!!')\n",
    "            break\n",
    "\n",
    "\n",
    "    if not replay():\n",
    "        print('')\n",
    "        print('Thanks for playing!!!', end = '\\n')\n",
    "        break  "
   ]
  },
  {
   "cell_type": "code",
   "execution_count": null,
   "metadata": {},
   "outputs": [],
   "source": []
  }
 ],
 "metadata": {
  "kernelspec": {
   "display_name": "Python 3",
   "language": "python",
   "name": "python3"
  },
  "language_info": {
   "codemirror_mode": {
    "name": "ipython",
    "version": 3
   },
   "file_extension": ".py",
   "mimetype": "text/x-python",
   "name": "python",
   "nbconvert_exporter": "python",
   "pygments_lexer": "ipython3",
   "version": "3.7.1"
  }
 },
 "nbformat": 4,
 "nbformat_minor": 2
}
